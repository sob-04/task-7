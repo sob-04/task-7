{
 "cells": [
  {
   "cell_type": "code",
   "execution_count": 1,
   "id": "b965dbd1-7509-4ff6-ac8c-14d5993f4943",
   "metadata": {},
   "outputs": [],
   "source": [
    "import sqlite3"
   ]
  },
  {
   "cell_type": "code",
   "execution_count": 3,
   "id": "46874f47-1e4d-4570-a66d-b1c4f7f52cb2",
   "metadata": {},
   "outputs": [],
   "source": [
    "import numpy as np\n",
    "import pandas as pd\n",
    "import seaborn as sns\n",
    "import matplotlib.pyplot as plt\n",
    "%matplotlib inline"
   ]
  },
  {
   "cell_type": "code",
   "execution_count": 4,
   "id": "055595f9-c778-4331-a95f-5658e1390520",
   "metadata": {},
   "outputs": [],
   "source": [
    "import warnings\n",
    "warnings.filterwarnings(\"ignore\")"
   ]
  },
  {
   "cell_type": "code",
   "execution_count": 5,
   "id": "672eb597-e71f-4279-8467-bce7b2bc9d51",
   "metadata": {},
   "outputs": [],
   "source": [
    "conn = sqlite3.connect(\"sales_data.db\")"
   ]
  },
  {
   "cell_type": "code",
   "execution_count": 6,
   "id": "9e396769-26d9-4ac1-a9e6-c404e213b976",
   "metadata": {},
   "outputs": [],
   "source": [
    "cursor = conn.cursor()"
   ]
  },
  {
   "cell_type": "code",
   "execution_count": 17,
   "id": "23cba930-ede5-4da1-a89d-4b18420af2e3",
   "metadata": {},
   "outputs": [],
   "source": [
    "cursor.execute(\"\"\"\n",
    "CREATE TABLE IF NOT EXISTS customers(\n",
    "id INTEGER PRIMARY KEY AUTOINCREMENT,\n",
    "name TEXT,\n",
    "age INTEGER,\n",
    "city TEXT,\n",
    "total_spent_  REAL\n",
    ")\n",
    "\"\"\")\n",
    "\n",
    "conn.commit()\n"
   ]
  },
  {
   "cell_type": "code",
   "execution_count": 18,
   "id": "9c6256f6-be51-4c81-97c0-0b6d30737153",
   "metadata": {},
   "outputs": [],
   "source": [
    "customers = [ \n",
    "(\"Mahesh Jadhav\", 16,\"New Delhi\",1000),\n",
    "(\"Nisha Kumari\", 19, \"Vizag\",800),\n",
    "(\"Brijesh Singh\",21,\"Ludhiana\",500),\n",
    "(\"Sudha Mihal\", 22,\"Mangalore\",400),\n",
    "(\"Jayesh Giri\",24,\"Surat\",650)\n",
    "]\n",
    "\n",
    "cursor.executemany(\"INSERT INTO customers (name,age,city,total_spent_) VALUES(?,?,?,?)\" ,customers)\n",
    "\n",
    "conn.commit()"
   ]
  },
  {
   "cell_type": "code",
   "execution_count": 19,
   "id": "03ee2497-4005-4da6-8226-5ef2df3aeb0f",
   "metadata": {},
   "outputs": [
    {
     "data": {
      "text/html": [
       "<div>\n",
       "<style scoped>\n",
       "    .dataframe tbody tr th:only-of-type {\n",
       "        vertical-align: middle;\n",
       "    }\n",
       "\n",
       "    .dataframe tbody tr th {\n",
       "        vertical-align: top;\n",
       "    }\n",
       "\n",
       "    .dataframe thead th {\n",
       "        text-align: right;\n",
       "    }\n",
       "</style>\n",
       "<table border=\"1\" class=\"dataframe\">\n",
       "  <thead>\n",
       "    <tr style=\"text-align: right;\">\n",
       "      <th></th>\n",
       "      <th>id</th>\n",
       "      <th>name</th>\n",
       "      <th>age</th>\n",
       "      <th>city</th>\n",
       "      <th>total_spent_</th>\n",
       "    </tr>\n",
       "  </thead>\n",
       "  <tbody>\n",
       "    <tr>\n",
       "      <th>0</th>\n",
       "      <td>1</td>\n",
       "      <td>Mahesh Jadhav</td>\n",
       "      <td>16</td>\n",
       "      <td>New Delhi</td>\n",
       "      <td>500.75</td>\n",
       "    </tr>\n",
       "    <tr>\n",
       "      <th>1</th>\n",
       "      <td>2</td>\n",
       "      <td>Nisha Kumari</td>\n",
       "      <td>19</td>\n",
       "      <td>Vizag</td>\n",
       "      <td>900.67</td>\n",
       "    </tr>\n",
       "    <tr>\n",
       "      <th>2</th>\n",
       "      <td>3</td>\n",
       "      <td>Brijesh Singh</td>\n",
       "      <td>21</td>\n",
       "      <td>Ludhiana</td>\n",
       "      <td>912.33</td>\n",
       "    </tr>\n",
       "    <tr>\n",
       "      <th>3</th>\n",
       "      <td>4</td>\n",
       "      <td>Sudha Mihal</td>\n",
       "      <td>22</td>\n",
       "      <td>Mangalore</td>\n",
       "      <td>788.32</td>\n",
       "    </tr>\n",
       "    <tr>\n",
       "      <th>4</th>\n",
       "      <td>5</td>\n",
       "      <td>Jayesh Giri</td>\n",
       "      <td>24</td>\n",
       "      <td>Surat</td>\n",
       "      <td>892.01</td>\n",
       "    </tr>\n",
       "  </tbody>\n",
       "</table>\n",
       "</div>"
      ],
      "text/plain": [
       "   id           name  age       city  total_spent_\n",
       "0   1  Mahesh Jadhav   16  New Delhi        500.75\n",
       "1   2   Nisha Kumari   19      Vizag        900.67\n",
       "2   3  Brijesh Singh   21   Ludhiana        912.33\n",
       "3   4    Sudha Mihal   22  Mangalore        788.32\n",
       "4   5    Jayesh Giri   24      Surat        892.01"
      ]
     },
     "execution_count": 19,
     "metadata": {},
     "output_type": "execute_result"
    }
   ],
   "source": [
    "# run sql queries to retrieve data\n",
    "\n",
    "query = \"select * from customers\"\n",
    "df = pd.read_sql(query,conn)  #store sql results in pandas dataframe\n",
    "\n",
    "#display data\n",
    "df.head()"
   ]
  },
  {
   "cell_type": "code",
   "execution_count": 16,
   "id": "7ed65a7a-8cc7-4361-96ca-7439b422b013",
   "metadata": {},
   "outputs": [
    {
     "data": {
      "text/html": [
       "<div>\n",
       "<style scoped>\n",
       "    .dataframe tbody tr th:only-of-type {\n",
       "        vertical-align: middle;\n",
       "    }\n",
       "\n",
       "    .dataframe tbody tr th {\n",
       "        vertical-align: top;\n",
       "    }\n",
       "\n",
       "    .dataframe thead th {\n",
       "        text-align: right;\n",
       "    }\n",
       "</style>\n",
       "<table border=\"1\" class=\"dataframe\">\n",
       "  <thead>\n",
       "    <tr style=\"text-align: right;\">\n",
       "      <th></th>\n",
       "      <th>id</th>\n",
       "      <th>name</th>\n",
       "      <th>age</th>\n",
       "      <th>city</th>\n",
       "      <th>total_spent_</th>\n",
       "    </tr>\n",
       "  </thead>\n",
       "  <tbody>\n",
       "    <tr>\n",
       "      <th>0</th>\n",
       "      <td>1</td>\n",
       "      <td>Mahesh Jadhav</td>\n",
       "      <td>16</td>\n",
       "      <td>New Delhi</td>\n",
       "      <td>500.75</td>\n",
       "    </tr>\n",
       "    <tr>\n",
       "      <th>1</th>\n",
       "      <td>6</td>\n",
       "      <td>Mahesh Jadhav</td>\n",
       "      <td>16</td>\n",
       "      <td>New Delhi</td>\n",
       "      <td>500.75</td>\n",
       "    </tr>\n",
       "  </tbody>\n",
       "</table>\n",
       "</div>"
      ],
      "text/plain": [
       "   id           name  age       city  total_spent_\n",
       "0   1  Mahesh Jadhav   16  New Delhi        500.75\n",
       "1   6  Mahesh Jadhav   16  New Delhi        500.75"
      ]
     },
     "execution_count": 16,
     "metadata": {},
     "output_type": "execute_result"
    }
   ],
   "source": [
    "# perform data analysis using sql queries\n",
    "\n",
    "query = \"select * from customers where total_spent_ <600\"\n",
    "pd.read_sql(query,conn)"
   ]
  },
  {
   "cell_type": "code",
   "execution_count": 20,
   "id": "13ee2462-4f41-446b-afc9-d1f0af91fe24",
   "metadata": {},
   "outputs": [
    {
     "data": {
      "text/html": [
       "<div>\n",
       "<style scoped>\n",
       "    .dataframe tbody tr th:only-of-type {\n",
       "        vertical-align: middle;\n",
       "    }\n",
       "\n",
       "    .dataframe tbody tr th {\n",
       "        vertical-align: top;\n",
       "    }\n",
       "\n",
       "    .dataframe thead th {\n",
       "        text-align: right;\n",
       "    }\n",
       "</style>\n",
       "<table border=\"1\" class=\"dataframe\">\n",
       "  <thead>\n",
       "    <tr style=\"text-align: right;\">\n",
       "      <th></th>\n",
       "      <th>avg_age</th>\n",
       "    </tr>\n",
       "  </thead>\n",
       "  <tbody>\n",
       "    <tr>\n",
       "      <th>0</th>\n",
       "      <td>20.4</td>\n",
       "    </tr>\n",
       "  </tbody>\n",
       "</table>\n",
       "</div>"
      ],
      "text/plain": [
       "   avg_age\n",
       "0     20.4"
      ]
     },
     "execution_count": 20,
     "metadata": {},
     "output_type": "execute_result"
    }
   ],
   "source": [
    "#calculate average age\n",
    "\n",
    "query = \"select AVG(age) as avg_age from customers\"\n",
    "pd.read_sql(query,conn)"
   ]
  },
  {
   "cell_type": "code",
   "execution_count": 21,
   "id": "4b94a86e-939b-44a0-a42a-263b5e668156",
   "metadata": {},
   "outputs": [],
   "source": [
    "# visualizing sql results using python\n",
    "\n",
    "query = \"select city,SUM(total_spent_) as total_sales_ from customers group by city\"\n",
    "df_sales = pd.read_sql(query,conn)"
   ]
  },
  {
   "cell_type": "code",
   "execution_count": 24,
   "id": "732f5b6a-5ef6-4083-b39f-f7d5b491c04e",
   "metadata": {},
   "outputs": [
    {
     "data": {
      "image/png": "[encoded data removed]",
      "text/plain": [
       "<Figure size 800x500 with 1 Axes>"
      ]
     },
     "metadata": {},
     "output_type": "display_data"
    }
   ],
   "source": [
    "# plot data\n",
    "\n",
    "plt.figure(figsize=(8,5))\n",
    "sns.barplot(x=\"city\", y=\"total_sales_\" , data=df_sales, palette = \"coolwarm\")\n",
    "plt.xticks(rotation = 45)\n",
    "plt.title(\"Total Sales by City\")\n",
    "plt.show()"
   ]
  },
  {
   "cell_type": "code",
   "execution_count": 25,
   "id": "1f972797-0963-4787-aa08-c21bead0287c",
   "metadata": {},
   "outputs": [],
   "source": [
    "conn.close()"
   ]
  },
  {
   "cell_type": "code",
   "execution_count": null,
   "id": "2f68914a-fe4e-4eff-adc9-94da6a597c2f",
   "metadata": {},
   "outputs": [],
   "source": []
  }
 ],
 "metadata": {
  "kernelspec": {
   "display_name": "Python 3 (ipykernel)",
   "language": "python",
   "name": "python3"
  },
  "language_info": {
   "codemirror_mode": {
    "name": "ipython",
    "version": 3
   },
   "file_extension": ".py",
   "mimetype": "text/x-python",
   "name": "python",
   "nbconvert_exporter": "python",
   "pygments_lexer": "ipython3",
   "version": "3.12.7"
  }
 },
 "nbformat": 4,
 "nbformat_minor": 5
}
